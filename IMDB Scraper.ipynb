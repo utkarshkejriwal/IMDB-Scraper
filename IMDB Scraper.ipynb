{
 "cells": [
  {
   "cell_type": "code",
   "execution_count": 1,
   "id": "aabd1d58",
   "metadata": {},
   "outputs": [],
   "source": [
    "#importing necessary libraries for web scraping\n",
    "from bs4 import BeautifulSoup\n",
    "import requests\n",
    "import pandas as pd"
   ]
  },
  {
   "cell_type": "code",
   "execution_count": 2,
   "id": "2c85c7dc",
   "metadata": {},
   "outputs": [],
   "source": [
    "#creating empty lists for storing scraped data\n",
    "movie_link = []\n",
    "title = []\n",
    "year = []\n",
    "genre = []\n",
    "rating = []\n",
    "lead_actor1 = []\n",
    "lead_actor2 = []\n",
    "director = []\n",
    "summary = []"
   ]
  },
  {
   "cell_type": "code",
   "execution_count": 3,
   "id": "0c78a33c",
   "metadata": {},
   "outputs": [
    {
     "data": {
      "text/plain": [
       "200"
      ]
     },
     "execution_count": 3,
     "metadata": {},
     "output_type": "execute_result"
    }
   ],
   "source": [
    "headers = {\n",
    "    'User-Agent': 'Mozilla/5.0 (Windows NT 10.0; Win64; x64) AppleWebKit/537.36 (KHTML, like Gecko) Chrome/109.0.0.0 Safari/537.36',\n",
    "}\n",
    "req = requests.get(\"https://www.imdb.com/chart/top/?ref_=nv_mv_250\", headers = headers)\n",
    "req.status_code"
   ]
  },
  {
   "cell_type": "code",
   "execution_count": 4,
   "id": "d997e7b5",
   "metadata": {},
   "outputs": [
    {
     "data": {
      "text/plain": [
       "['https://www.imdb.com/title/tt0111161/?ref_=chttp_t_1',\n",
       " 'https://www.imdb.com/title/tt0068646/?ref_=chttp_t_2',\n",
       " 'https://www.imdb.com/title/tt0468569/?ref_=chttp_t_3',\n",
       " 'https://www.imdb.com/title/tt0071562/?ref_=chttp_t_4',\n",
       " 'https://www.imdb.com/title/tt0050083/?ref_=chttp_t_5']"
      ]
     },
     "execution_count": 4,
     "metadata": {},
     "output_type": "execute_result"
    }
   ],
   "source": [
    "imdb = BeautifulSoup(req.content, 'html.parser')\n",
    "for a in imdb.find_all('a', class_ = 'ipc-title-link-wrapper', href = True):\n",
    "    movie_link.append(\"https://www.imdb.com\" + a['href'])\n",
    "movie_link = movie_link[0:250]\n",
    "movie_link[0:5]"
   ]
  },
  {
   "cell_type": "markdown",
   "id": "aada25cd",
   "metadata": {},
   "source": [
    "#### Breaking down the requests into 20 parts each to prevent server timeout error"
   ]
  },
  {
   "cell_type": "code",
   "execution_count": 5,
   "id": "76319ed3",
   "metadata": {
    "scrolled": true
   },
   "outputs": [],
   "source": [
    "i = 1\n",
    "for url in movie_link[0:20]:\n",
    "    req = requests.get(url, headers = headers)\n",
    "    movie = BeautifulSoup(req.content, 'html.parser')\n",
    "    title.append(movie.find('span', class_ = 'hero__primary-text').get_text())\n",
    "    year.append(movie.find_all('a', class_ = 'ipc-link ipc-link--baseAlt ipc-link--inherit-color')[5].get_text())\n",
    "    genre.append(movie.find('span', class_ = 'ipc-chip__text').get_text())\n",
    "    summary.append(movie.find('span', class_ = 'sc-466bb6c-0 hlbAws').get_text())\n",
    "    rating.append(movie.find('span', class_ = 'sc-bde20123-1 cMEQkK').get_text())\n",
    "    lead_actor1.append(movie.find_all('a', class_ = 'sc-bfec09a1-1 gCQkeh')[0].get_text())\n",
    "    lead_actor2.append(movie.find_all('a', class_ = 'sc-bfec09a1-1 gCQkeh')[1].get_text())\n",
    "    director.append(movie.find('a', class_ = 'ipc-metadata-list-item__list-content-item ipc-metadata-list-item__list-content-item--link').get_text())\n",
    "    i = i + 1"
   ]
  },
  {
   "cell_type": "code",
   "execution_count": 6,
   "id": "db53ee3b",
   "metadata": {
    "scrolled": true
   },
   "outputs": [],
   "source": [
    "for url in movie_link[20:40]:\n",
    "    req = requests.get(url, headers = headers)\n",
    "    movie = BeautifulSoup(req.content, 'html.parser')\n",
    "    title.append(movie.find('span', class_ = 'hero__primary-text').get_text())\n",
    "    year.append(movie.find_all('a', class_ = 'ipc-link ipc-link--baseAlt ipc-link--inherit-color')[5].get_text())\n",
    "    genre.append(movie.find('span', class_ = 'ipc-chip__text').get_text())\n",
    "    summary.append(movie.find('span', class_ = 'sc-466bb6c-0 hlbAws').get_text())\n",
    "    rating.append(movie.find('span', class_ = 'sc-bde20123-1 cMEQkK').get_text())\n",
    "    lead_actor1.append(movie.find_all('a', class_ = 'sc-bfec09a1-1 gCQkeh')[0].get_text())\n",
    "    lead_actor2.append(movie.find_all('a', class_ = 'sc-bfec09a1-1 gCQkeh')[1].get_text())\n",
    "    director.append(movie.find('a', class_ = 'ipc-metadata-list-item__list-content-item ipc-metadata-list-item__list-content-item--link').get_text())\n",
    "    i = i + 1"
   ]
  },
  {
   "cell_type": "code",
   "execution_count": 7,
   "id": "bc6c0eb4",
   "metadata": {
    "scrolled": true
   },
   "outputs": [],
   "source": [
    "for url in movie_link[40:60]:\n",
    "    req = requests.get(url, headers = headers)\n",
    "    movie = BeautifulSoup(req.content, 'html.parser')\n",
    "    title.append(movie.find('span', class_ = 'hero__primary-text').get_text())\n",
    "    year.append(movie.find_all('a', class_ = 'ipc-link ipc-link--baseAlt ipc-link--inherit-color')[5].get_text())\n",
    "    genre.append(movie.find('span', class_ = 'ipc-chip__text').get_text())\n",
    "    summary.append(movie.find('span', class_ = 'sc-466bb6c-0 hlbAws').get_text())\n",
    "    rating.append(movie.find('span', class_ = 'sc-bde20123-1 cMEQkK').get_text())\n",
    "    lead_actor1.append(movie.find_all('a', class_ = 'sc-bfec09a1-1 gCQkeh')[0].get_text())\n",
    "    lead_actor2.append(movie.find_all('a', class_ = 'sc-bfec09a1-1 gCQkeh')[1].get_text())\n",
    "    director.append(movie.find('a', class_ = 'ipc-metadata-list-item__list-content-item ipc-metadata-list-item__list-content-item--link').get_text())\n",
    "    i = i + 1"
   ]
  },
  {
   "cell_type": "code",
   "execution_count": 8,
   "id": "d416a38c",
   "metadata": {
    "scrolled": true
   },
   "outputs": [],
   "source": [
    "for url in movie_link[60:80]:\n",
    "    req = requests.get(url, headers = headers)\n",
    "    movie = BeautifulSoup(req.content, 'html.parser')\n",
    "    title.append(movie.find('span', class_ = 'hero__primary-text').get_text())\n",
    "    year.append(movie.find_all('a', class_ = 'ipc-link ipc-link--baseAlt ipc-link--inherit-color')[5].get_text())\n",
    "    genre.append(movie.find('span', class_ = 'ipc-chip__text').get_text())\n",
    "    summary.append(movie.find('span', class_ = 'sc-466bb6c-0 hlbAws').get_text())\n",
    "    rating.append(movie.find('span', class_ = 'sc-bde20123-1 cMEQkK').get_text())\n",
    "    lead_actor1.append(movie.find_all('a', class_ = 'sc-bfec09a1-1 gCQkeh')[0].get_text())\n",
    "    lead_actor2.append(movie.find_all('a', class_ = 'sc-bfec09a1-1 gCQkeh')[1].get_text())\n",
    "    director.append(movie.find('a', class_ = 'ipc-metadata-list-item__list-content-item ipc-metadata-list-item__list-content-item--link').get_text())\n",
    "    i = i + 1"
   ]
  },
  {
   "cell_type": "code",
   "execution_count": 9,
   "id": "dde36bec",
   "metadata": {
    "scrolled": true
   },
   "outputs": [],
   "source": [
    "for url in movie_link[80:100]:\n",
    "    req = requests.get(url, headers = headers)\n",
    "    movie = BeautifulSoup(req.content, 'html.parser')\n",
    "    title.append(movie.find('span', class_ = 'hero__primary-text').get_text())\n",
    "    year.append(movie.find_all('a', class_ = 'ipc-link ipc-link--baseAlt ipc-link--inherit-color')[5].get_text())\n",
    "    genre.append(movie.find('span', class_ = 'ipc-chip__text').get_text())\n",
    "    summary.append(movie.find('span', class_ = 'sc-466bb6c-0 hlbAws').get_text())\n",
    "    rating.append(movie.find('span', class_ = 'sc-bde20123-1 cMEQkK').get_text())\n",
    "    lead_actor1.append(movie.find_all('a', class_ = 'sc-bfec09a1-1 gCQkeh')[0].get_text())\n",
    "    lead_actor2.append(movie.find_all('a', class_ = 'sc-bfec09a1-1 gCQkeh')[1].get_text())\n",
    "    director.append(movie.find('a', class_ = 'ipc-metadata-list-item__list-content-item ipc-metadata-list-item__list-content-item--link').get_text())\n",
    "    i = i + 1"
   ]
  },
  {
   "cell_type": "code",
   "execution_count": 10,
   "id": "e4688bcd",
   "metadata": {
    "scrolled": true
   },
   "outputs": [],
   "source": [
    "for url in movie_link[100:120]:\n",
    "    req = requests.get(url, headers = headers)\n",
    "    movie = BeautifulSoup(req.content, 'html.parser')\n",
    "    title.append(movie.find('span', class_ = 'hero__primary-text').get_text())\n",
    "    year.append(movie.find_all('a', class_ = 'ipc-link ipc-link--baseAlt ipc-link--inherit-color')[5].get_text())\n",
    "    genre.append(movie.find('span', class_ = 'ipc-chip__text').get_text())\n",
    "    summary.append(movie.find('span', class_ = 'sc-466bb6c-0 hlbAws').get_text())\n",
    "    rating.append(movie.find('span', class_ = 'sc-bde20123-1 cMEQkK').get_text())\n",
    "    lead_actor1.append(movie.find_all('a', class_ = 'sc-bfec09a1-1 gCQkeh')[0].get_text())\n",
    "    lead_actor2.append(movie.find_all('a', class_ = 'sc-bfec09a1-1 gCQkeh')[1].get_text())\n",
    "    director.append(movie.find('a', class_ = 'ipc-metadata-list-item__list-content-item ipc-metadata-list-item__list-content-item--link').get_text())\n",
    "    i = i + 1"
   ]
  },
  {
   "cell_type": "code",
   "execution_count": 11,
   "id": "d845394c",
   "metadata": {
    "scrolled": true
   },
   "outputs": [],
   "source": [
    "for url in movie_link[120:140]:\n",
    "    req = requests.get(url, headers = headers)\n",
    "    movie = BeautifulSoup(req.content, 'html.parser')\n",
    "    title.append(movie.find('span', class_ = 'hero__primary-text').get_text())\n",
    "    year.append(movie.find_all('a', class_ = 'ipc-link ipc-link--baseAlt ipc-link--inherit-color')[5].get_text())\n",
    "    genre.append(movie.find('span', class_ = 'ipc-chip__text').get_text())\n",
    "    summary.append(movie.find('span', class_ = 'sc-466bb6c-0 hlbAws').get_text())\n",
    "    rating.append(movie.find('span', class_ = 'sc-bde20123-1 cMEQkK').get_text())\n",
    "    lead_actor1.append(movie.find_all('a', class_ = 'sc-bfec09a1-1 gCQkeh')[0].get_text())\n",
    "    lead_actor2.append(movie.find_all('a', class_ = 'sc-bfec09a1-1 gCQkeh')[1].get_text())\n",
    "    director.append(movie.find('a', class_ = 'ipc-metadata-list-item__list-content-item ipc-metadata-list-item__list-content-item--link').get_text())\n",
    "    i = i + 1"
   ]
  },
  {
   "cell_type": "code",
   "execution_count": 12,
   "id": "72af079d",
   "metadata": {
    "scrolled": true
   },
   "outputs": [],
   "source": [
    "for url in movie_link[140:160]:\n",
    "    req = requests.get(url, headers = headers)\n",
    "    movie = BeautifulSoup(req.content, 'html.parser')\n",
    "    title.append(movie.find('span', class_ = 'hero__primary-text').get_text())\n",
    "    year.append(movie.find_all('a', class_ = 'ipc-link ipc-link--baseAlt ipc-link--inherit-color')[5].get_text())\n",
    "    genre.append(movie.find('span', class_ = 'ipc-chip__text').get_text())\n",
    "    summary.append(movie.find('span', class_ = 'sc-466bb6c-0 hlbAws').get_text())\n",
    "    rating.append(movie.find('span', class_ = 'sc-bde20123-1 cMEQkK').get_text())\n",
    "    lead_actor1.append(movie.find_all('a', class_ = 'sc-bfec09a1-1 gCQkeh')[0].get_text())\n",
    "    lead_actor2.append(movie.find_all('a', class_ = 'sc-bfec09a1-1 gCQkeh')[1].get_text())\n",
    "    director.append(movie.find('a', class_ = 'ipc-metadata-list-item__list-content-item ipc-metadata-list-item__list-content-item--link').get_text())\n",
    "    i = i + 1"
   ]
  },
  {
   "cell_type": "code",
   "execution_count": 13,
   "id": "06eac4ef",
   "metadata": {
    "scrolled": true
   },
   "outputs": [],
   "source": [
    "for url in movie_link[160:180]:\n",
    "    req = requests.get(url, headers = headers)\n",
    "    movie = BeautifulSoup(req.content, 'html.parser')\n",
    "    title.append(movie.find('span', class_ = 'hero__primary-text').get_text())\n",
    "    year.append(movie.find_all('a', class_ = 'ipc-link ipc-link--baseAlt ipc-link--inherit-color')[5].get_text())\n",
    "    genre.append(movie.find('span', class_ = 'ipc-chip__text').get_text())\n",
    "    summary.append(movie.find('span', class_ = 'sc-466bb6c-0 hlbAws').get_text())\n",
    "    rating.append(movie.find('span', class_ = 'sc-bde20123-1 cMEQkK').get_text())\n",
    "    lead_actor1.append(movie.find_all('a', class_ = 'sc-bfec09a1-1 gCQkeh')[0].get_text())\n",
    "    lead_actor2.append(movie.find_all('a', class_ = 'sc-bfec09a1-1 gCQkeh')[1].get_text())\n",
    "    director.append(movie.find('a', class_ = 'ipc-metadata-list-item__list-content-item ipc-metadata-list-item__list-content-item--link').get_text())\n",
    "    i = i + 1"
   ]
  },
  {
   "cell_type": "code",
   "execution_count": 14,
   "id": "252455f5",
   "metadata": {
    "scrolled": true
   },
   "outputs": [],
   "source": [
    "for url in movie_link[180:200]:\n",
    "    req = requests.get(url, headers = headers)\n",
    "    movie = BeautifulSoup(req.content, 'html.parser')\n",
    "    title.append(movie.find('span', class_ = 'hero__primary-text').get_text())\n",
    "    year.append(movie.find_all('a', class_ = 'ipc-link ipc-link--baseAlt ipc-link--inherit-color')[5].get_text())\n",
    "    genre.append(movie.find('span', class_ = 'ipc-chip__text').get_text())\n",
    "    summary.append(movie.find('span', class_ = 'sc-466bb6c-0 hlbAws').get_text())\n",
    "    rating.append(movie.find('span', class_ = 'sc-bde20123-1 cMEQkK').get_text())\n",
    "    lead_actor1.append(movie.find_all('a', class_ = 'sc-bfec09a1-1 gCQkeh')[0].get_text())\n",
    "    lead_actor2.append(movie.find_all('a', class_ = 'sc-bfec09a1-1 gCQkeh')[1].get_text())\n",
    "    director.append(movie.find('a', class_ = 'ipc-metadata-list-item__list-content-item ipc-metadata-list-item__list-content-item--link').get_text())\n",
    "    i = i + 1"
   ]
  },
  {
   "cell_type": "code",
   "execution_count": 15,
   "id": "f0c427b8",
   "metadata": {
    "scrolled": true
   },
   "outputs": [],
   "source": [
    "for url in movie_link[200:220]:\n",
    "    req = requests.get(url, headers = headers)\n",
    "    movie = BeautifulSoup(req.content, 'html.parser')\n",
    "    title.append(movie.find('span', class_ = 'hero__primary-text').get_text())\n",
    "    year.append(movie.find_all('a', class_ = 'ipc-link ipc-link--baseAlt ipc-link--inherit-color')[5].get_text())\n",
    "    genre.append(movie.find('span', class_ = 'ipc-chip__text').get_text())\n",
    "    summary.append(movie.find('span', class_ = 'sc-466bb6c-0 hlbAws').get_text())\n",
    "    rating.append(movie.find('span', class_ = 'sc-bde20123-1 cMEQkK').get_text())\n",
    "    lead_actor1.append(movie.find_all('a', class_ = 'sc-bfec09a1-1 gCQkeh')[0].get_text())\n",
    "    lead_actor2.append(movie.find_all('a', class_ = 'sc-bfec09a1-1 gCQkeh')[1].get_text())\n",
    "    director.append(movie.find('a', class_ = 'ipc-metadata-list-item__list-content-item ipc-metadata-list-item__list-content-item--link').get_text())\n",
    "    i = i + 1"
   ]
  },
  {
   "cell_type": "code",
   "execution_count": 16,
   "id": "b4252d9e",
   "metadata": {
    "scrolled": true
   },
   "outputs": [],
   "source": [
    "for url in movie_link[220:240]:\n",
    "    req = requests.get(url, headers = headers)\n",
    "    movie = BeautifulSoup(req.content, 'html.parser')\n",
    "    title.append(movie.find('span', class_ = 'hero__primary-text').get_text())\n",
    "    year.append(movie.find_all('a', class_ = 'ipc-link ipc-link--baseAlt ipc-link--inherit-color')[5].get_text())\n",
    "    genre.append(movie.find('span', class_ = 'ipc-chip__text').get_text())\n",
    "    summary.append(movie.find('span', class_ = 'sc-466bb6c-0 hlbAws').get_text())\n",
    "    rating.append(movie.find('span', class_ = 'sc-bde20123-1 cMEQkK').get_text())\n",
    "    lead_actor1.append(movie.find_all('a', class_ = 'sc-bfec09a1-1 gCQkeh')[0].get_text())\n",
    "    lead_actor2.append(movie.find_all('a', class_ = 'sc-bfec09a1-1 gCQkeh')[1].get_text())\n",
    "    director.append(movie.find('a', class_ = 'ipc-metadata-list-item__list-content-item ipc-metadata-list-item__list-content-item--link').get_text())\n",
    "    i = i + 1"
   ]
  },
  {
   "cell_type": "code",
   "execution_count": 17,
   "id": "8b8eaa65",
   "metadata": {
    "scrolled": true
   },
   "outputs": [],
   "source": [
    "for url in movie_link[240:]:\n",
    "    req = requests.get(url, headers = headers)\n",
    "    movie = BeautifulSoup(req.content, 'html.parser')\n",
    "    title.append(movie.find('span', class_ = 'hero__primary-text').get_text())\n",
    "    year.append(movie.find_all('a', class_ = 'ipc-link ipc-link--baseAlt ipc-link--inherit-color')[5].get_text())\n",
    "    genre.append(movie.find('span', class_ = 'ipc-chip__text').get_text())\n",
    "    summary.append(movie.find('span', class_ = 'sc-466bb6c-0 hlbAws').get_text())\n",
    "    rating.append(movie.find('span', class_ = 'sc-bde20123-1 cMEQkK').get_text())\n",
    "    lead_actor1.append(movie.find_all('a', class_ = 'sc-bfec09a1-1 gCQkeh')[0].get_text())\n",
    "    lead_actor2.append(movie.find_all('a', class_ = 'sc-bfec09a1-1 gCQkeh')[1].get_text())\n",
    "    director.append(movie.find('a', class_ = 'ipc-metadata-list-item__list-content-item ipc-metadata-list-item__list-content-item--link').get_text())\n",
    "    i = i + 1"
   ]
  },
  {
   "cell_type": "code",
   "execution_count": 19,
   "id": "c1b07db3",
   "metadata": {},
   "outputs": [
    {
     "data": {
      "text/html": [
       "<div>\n",
       "<style scoped>\n",
       "    .dataframe tbody tr th:only-of-type {\n",
       "        vertical-align: middle;\n",
       "    }\n",
       "\n",
       "    .dataframe tbody tr th {\n",
       "        vertical-align: top;\n",
       "    }\n",
       "\n",
       "    .dataframe thead th {\n",
       "        text-align: right;\n",
       "    }\n",
       "</style>\n",
       "<table border=\"1\" class=\"dataframe\">\n",
       "  <thead>\n",
       "    <tr style=\"text-align: right;\">\n",
       "      <th></th>\n",
       "      <th>Title</th>\n",
       "      <th>Release Year</th>\n",
       "      <th>Genre</th>\n",
       "      <th>Summary</th>\n",
       "      <th>Rating</th>\n",
       "      <th>Lead Actor 1</th>\n",
       "      <th>Lead Actor 2</th>\n",
       "      <th>Director</th>\n",
       "    </tr>\n",
       "  </thead>\n",
       "  <tbody>\n",
       "    <tr>\n",
       "      <th>0</th>\n",
       "      <td>The Shawshank Redemption</td>\n",
       "      <td>1994</td>\n",
       "      <td>Drama</td>\n",
       "      <td>Over the course of several years, two convicts...</td>\n",
       "      <td>9.3</td>\n",
       "      <td>Tim Robbins</td>\n",
       "      <td>Morgan Freeman</td>\n",
       "      <td>Frank Darabont</td>\n",
       "    </tr>\n",
       "    <tr>\n",
       "      <th>1</th>\n",
       "      <td>The Godfather</td>\n",
       "      <td>1972</td>\n",
       "      <td>Crime</td>\n",
       "      <td>The aging patriarch of an organized crime dyna...</td>\n",
       "      <td>9.2</td>\n",
       "      <td>Marlon Brando</td>\n",
       "      <td>Al Pacino</td>\n",
       "      <td>Francis Ford Coppola</td>\n",
       "    </tr>\n",
       "    <tr>\n",
       "      <th>2</th>\n",
       "      <td>The Dark Knight</td>\n",
       "      <td>2008</td>\n",
       "      <td>Action</td>\n",
       "      <td>When the menace known as the Joker wreaks havo...</td>\n",
       "      <td>9.0</td>\n",
       "      <td>Christian Bale</td>\n",
       "      <td>Heath Ledger</td>\n",
       "      <td>Christopher Nolan</td>\n",
       "    </tr>\n",
       "    <tr>\n",
       "      <th>3</th>\n",
       "      <td>The Godfather: Part II</td>\n",
       "      <td>1974</td>\n",
       "      <td>Crime</td>\n",
       "      <td>The early life and career of Vito Corleone in ...</td>\n",
       "      <td>9.0</td>\n",
       "      <td>Al Pacino</td>\n",
       "      <td>Robert De Niro</td>\n",
       "      <td>Francis Ford Coppola</td>\n",
       "    </tr>\n",
       "    <tr>\n",
       "      <th>4</th>\n",
       "      <td>12 Angry Men</td>\n",
       "      <td>1957</td>\n",
       "      <td>Crime</td>\n",
       "      <td>The jury in a New York City murder trial is fr...</td>\n",
       "      <td>9.0</td>\n",
       "      <td>Henry Fonda</td>\n",
       "      <td>Lee J. Cobb</td>\n",
       "      <td>Sidney Lumet</td>\n",
       "    </tr>\n",
       "  </tbody>\n",
       "</table>\n",
       "</div>"
      ],
      "text/plain": [
       "                      Title Release Year   Genre  \\\n",
       "0  The Shawshank Redemption         1994   Drama   \n",
       "1             The Godfather         1972   Crime   \n",
       "2           The Dark Knight         2008  Action   \n",
       "3    The Godfather: Part II         1974   Crime   \n",
       "4              12 Angry Men         1957   Crime   \n",
       "\n",
       "                                             Summary Rating    Lead Actor 1  \\\n",
       "0  Over the course of several years, two convicts...    9.3     Tim Robbins   \n",
       "1  The aging patriarch of an organized crime dyna...    9.2   Marlon Brando   \n",
       "2  When the menace known as the Joker wreaks havo...    9.0  Christian Bale   \n",
       "3  The early life and career of Vito Corleone in ...    9.0       Al Pacino   \n",
       "4  The jury in a New York City murder trial is fr...    9.0     Henry Fonda   \n",
       "\n",
       "     Lead Actor 2              Director  \n",
       "0  Morgan Freeman        Frank Darabont  \n",
       "1       Al Pacino  Francis Ford Coppola  \n",
       "2    Heath Ledger     Christopher Nolan  \n",
       "3  Robert De Niro  Francis Ford Coppola  \n",
       "4     Lee J. Cobb          Sidney Lumet  "
      ]
     },
     "execution_count": 19,
     "metadata": {},
     "output_type": "execute_result"
    }
   ],
   "source": [
    "moviedf = pd.DataFrame({\n",
    "    \"Title\": title,\n",
    "    \"Release Year\": year,\n",
    "    \"Genre\": genre,\n",
    "    \"Summary\": summary,\n",
    "    \"Rating\": rating,\n",
    "    \"Lead Actor 1\": lead_actor1,\n",
    "    \"Lead Actor 2\": lead_actor2,\n",
    "    \"Director\": director,\n",
    "})\n",
    "moviedf.head()"
   ]
  },
  {
   "cell_type": "code",
   "execution_count": 20,
   "id": "69302ea3",
   "metadata": {},
   "outputs": [
    {
     "data": {
      "text/html": [
       "<div>\n",
       "<style scoped>\n",
       "    .dataframe tbody tr th:only-of-type {\n",
       "        vertical-align: middle;\n",
       "    }\n",
       "\n",
       "    .dataframe tbody tr th {\n",
       "        vertical-align: top;\n",
       "    }\n",
       "\n",
       "    .dataframe thead th {\n",
       "        text-align: right;\n",
       "    }\n",
       "</style>\n",
       "<table border=\"1\" class=\"dataframe\">\n",
       "  <thead>\n",
       "    <tr style=\"text-align: right;\">\n",
       "      <th></th>\n",
       "      <th>Title</th>\n",
       "      <th>Release Year</th>\n",
       "      <th>Genre</th>\n",
       "      <th>Summary</th>\n",
       "      <th>Rating</th>\n",
       "      <th>Lead Actor 1</th>\n",
       "      <th>Lead Actor 2</th>\n",
       "      <th>Director</th>\n",
       "    </tr>\n",
       "  </thead>\n",
       "  <tbody>\n",
       "    <tr>\n",
       "      <th>245</th>\n",
       "      <td>The Help</td>\n",
       "      <td>2011</td>\n",
       "      <td>Drama</td>\n",
       "      <td>An aspiring author during the civil rights mov...</td>\n",
       "      <td>8.1</td>\n",
       "      <td>Viola Davis</td>\n",
       "      <td>Emma Stone</td>\n",
       "      <td>Tate Taylor</td>\n",
       "    </tr>\n",
       "    <tr>\n",
       "      <th>246</th>\n",
       "      <td>It Happened One Night</td>\n",
       "      <td>1934</td>\n",
       "      <td>Comedy</td>\n",
       "      <td>A renegade reporter trailing a young runaway h...</td>\n",
       "      <td>8.1</td>\n",
       "      <td>Clark Gable</td>\n",
       "      <td>Claudette Colbert</td>\n",
       "      <td>Frank Capra</td>\n",
       "    </tr>\n",
       "    <tr>\n",
       "      <th>247</th>\n",
       "      <td>Aladdin</td>\n",
       "      <td>U</td>\n",
       "      <td>Animation</td>\n",
       "      <td>A kind-hearted street urchin and a power-hungr...</td>\n",
       "      <td>8.0</td>\n",
       "      <td>Scott Weinger</td>\n",
       "      <td>Robin Williams</td>\n",
       "      <td>Ron Clements</td>\n",
       "    </tr>\n",
       "    <tr>\n",
       "      <th>248</th>\n",
       "      <td>Dances with Wolves</td>\n",
       "      <td>1990</td>\n",
       "      <td>Adventure</td>\n",
       "      <td>Lieutenant John Dunbar, assigned to a remote w...</td>\n",
       "      <td>8.0</td>\n",
       "      <td>Kevin Costner</td>\n",
       "      <td>Mary McDonnell</td>\n",
       "      <td>Kevin Costner</td>\n",
       "    </tr>\n",
       "    <tr>\n",
       "      <th>249</th>\n",
       "      <td>Drishyam</td>\n",
       "      <td>2015</td>\n",
       "      <td>Crime</td>\n",
       "      <td>Desperate measures are taken by a man who trie...</td>\n",
       "      <td>8.2</td>\n",
       "      <td>Ajay Devgn</td>\n",
       "      <td>Shriya Saran</td>\n",
       "      <td>Nishikant Kamat</td>\n",
       "    </tr>\n",
       "  </tbody>\n",
       "</table>\n",
       "</div>"
      ],
      "text/plain": [
       "                     Title Release Year      Genre  \\\n",
       "245               The Help         2011      Drama   \n",
       "246  It Happened One Night         1934     Comedy   \n",
       "247                Aladdin            U  Animation   \n",
       "248     Dances with Wolves         1990  Adventure   \n",
       "249               Drishyam         2015      Crime   \n",
       "\n",
       "                                               Summary Rating   Lead Actor 1  \\\n",
       "245  An aspiring author during the civil rights mov...    8.1    Viola Davis   \n",
       "246  A renegade reporter trailing a young runaway h...    8.1    Clark Gable   \n",
       "247  A kind-hearted street urchin and a power-hungr...    8.0  Scott Weinger   \n",
       "248  Lieutenant John Dunbar, assigned to a remote w...    8.0  Kevin Costner   \n",
       "249  Desperate measures are taken by a man who trie...    8.2     Ajay Devgn   \n",
       "\n",
       "          Lead Actor 2         Director  \n",
       "245         Emma Stone      Tate Taylor  \n",
       "246  Claudette Colbert      Frank Capra  \n",
       "247     Robin Williams     Ron Clements  \n",
       "248     Mary McDonnell    Kevin Costner  \n",
       "249       Shriya Saran  Nishikant Kamat  "
      ]
     },
     "execution_count": 20,
     "metadata": {},
     "output_type": "execute_result"
    }
   ],
   "source": [
    "moviedf.tail()"
   ]
  },
  {
   "cell_type": "code",
   "execution_count": 21,
   "id": "4dea85bc",
   "metadata": {},
   "outputs": [],
   "source": [
    "moviedf.to_csv('IMDB Data.csv')"
   ]
  }
 ],
 "metadata": {
  "kernelspec": {
   "display_name": "Python 3",
   "language": "python",
   "name": "python3"
  },
  "language_info": {
   "codemirror_mode": {
    "name": "ipython",
    "version": 3
   },
   "file_extension": ".py",
   "mimetype": "text/x-python",
   "name": "python",
   "nbconvert_exporter": "python",
   "pygments_lexer": "ipython3",
   "version": "3.8.8"
  }
 },
 "nbformat": 4,
 "nbformat_minor": 5
}
